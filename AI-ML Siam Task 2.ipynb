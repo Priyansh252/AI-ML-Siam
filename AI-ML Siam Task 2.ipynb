{
 "cells": [
  {
   "cell_type": "code",
   "execution_count": 45,
   "id": "b2097d76-e638-4a4a-8afc-ee4ac824677b",
   "metadata": {},
   "outputs": [],
   "source": [
    "#Importing Libraries"
   ]
  },
  {
   "cell_type": "code",
   "execution_count": 46,
   "id": "973558a2-53a9-4c05-94a5-3fa6240225fa",
   "metadata": {},
   "outputs": [],
   "source": [
    "import numpy as np\n",
    "import pandas as pd\n",
    "import matplotlib.pyplot as plt"
   ]
  },
  {
   "cell_type": "code",
   "execution_count": 47,
   "id": "1dc7de44-31f5-428d-8010-aa11489d1426",
   "metadata": {},
   "outputs": [],
   "source": [
    "#Importing Dataset"
   ]
  },
  {
   "cell_type": "code",
   "execution_count": 48,
   "id": "3354a53a-5530-4b08-ba00-b9704ef1c60a",
   "metadata": {},
   "outputs": [],
   "source": [
    "file=pd.read_csv(r'C:\\Users\\Priyansh\\Downloads\\Netflix_stock_data.csv')"
   ]
  },
  {
   "cell_type": "code",
   "execution_count": 49,
   "id": "dab487ae-4cf0-48e2-86d7-0f2c33587572",
   "metadata": {},
   "outputs": [],
   "source": [
    "# Understanding the Data"
   ]
  },
  {
   "cell_type": "code",
   "execution_count": 50,
   "id": "a8412507-b492-45d7-8964-abc3410a60f1",
   "metadata": {},
   "outputs": [
    {
     "data": {
      "text/html": [
       "<div>\n",
       "<style scoped>\n",
       "    .dataframe tbody tr th:only-of-type {\n",
       "        vertical-align: middle;\n",
       "    }\n",
       "\n",
       "    .dataframe tbody tr th {\n",
       "        vertical-align: top;\n",
       "    }\n",
       "\n",
       "    .dataframe thead th {\n",
       "        text-align: right;\n",
       "    }\n",
       "</style>\n",
       "<table border=\"1\" class=\"dataframe\">\n",
       "  <thead>\n",
       "    <tr style=\"text-align: right;\">\n",
       "      <th></th>\n",
       "      <th>Date</th>\n",
       "      <th>Close</th>\n",
       "      <th>High</th>\n",
       "      <th>Low</th>\n",
       "      <th>Open</th>\n",
       "      <th>Volume</th>\n",
       "    </tr>\n",
       "  </thead>\n",
       "  <tbody>\n",
       "    <tr>\n",
       "      <th>0</th>\n",
       "      <td>2002-05-23</td>\n",
       "      <td>1.196429</td>\n",
       "      <td>1.242857</td>\n",
       "      <td>1.145714</td>\n",
       "      <td>1.156429</td>\n",
       "      <td>104790000</td>\n",
       "    </tr>\n",
       "    <tr>\n",
       "      <th>1</th>\n",
       "      <td>2002-05-24</td>\n",
       "      <td>1.210000</td>\n",
       "      <td>1.225000</td>\n",
       "      <td>1.197143</td>\n",
       "      <td>1.214286</td>\n",
       "      <td>11104800</td>\n",
       "    </tr>\n",
       "    <tr>\n",
       "      <th>2</th>\n",
       "      <td>2002-05-28</td>\n",
       "      <td>1.157143</td>\n",
       "      <td>1.232143</td>\n",
       "      <td>1.157143</td>\n",
       "      <td>1.213571</td>\n",
       "      <td>6609400</td>\n",
       "    </tr>\n",
       "    <tr>\n",
       "      <th>3</th>\n",
       "      <td>2002-05-29</td>\n",
       "      <td>1.103571</td>\n",
       "      <td>1.164286</td>\n",
       "      <td>1.085714</td>\n",
       "      <td>1.164286</td>\n",
       "      <td>6757800</td>\n",
       "    </tr>\n",
       "    <tr>\n",
       "      <th>4</th>\n",
       "      <td>2002-05-30</td>\n",
       "      <td>1.071429</td>\n",
       "      <td>1.107857</td>\n",
       "      <td>1.071429</td>\n",
       "      <td>1.107857</td>\n",
       "      <td>10154200</td>\n",
       "    </tr>\n",
       "  </tbody>\n",
       "</table>\n",
       "</div>"
      ],
      "text/plain": [
       "         Date     Close      High       Low      Open     Volume\n",
       "0  2002-05-23  1.196429  1.242857  1.145714  1.156429  104790000\n",
       "1  2002-05-24  1.210000  1.225000  1.197143  1.214286   11104800\n",
       "2  2002-05-28  1.157143  1.232143  1.157143  1.213571    6609400\n",
       "3  2002-05-29  1.103571  1.164286  1.085714  1.164286    6757800\n",
       "4  2002-05-30  1.071429  1.107857  1.071429  1.107857   10154200"
      ]
     },
     "execution_count": 50,
     "metadata": {},
     "output_type": "execute_result"
    }
   ],
   "source": [
    "file.head()"
   ]
  },
  {
   "cell_type": "code",
   "execution_count": 51,
   "id": "e5f55854-0055-4056-88c7-342a54d1d7ce",
   "metadata": {},
   "outputs": [
    {
     "data": {
      "text/html": [
       "<div>\n",
       "<style scoped>\n",
       "    .dataframe tbody tr th:only-of-type {\n",
       "        vertical-align: middle;\n",
       "    }\n",
       "\n",
       "    .dataframe tbody tr th {\n",
       "        vertical-align: top;\n",
       "    }\n",
       "\n",
       "    .dataframe thead th {\n",
       "        text-align: right;\n",
       "    }\n",
       "</style>\n",
       "<table border=\"1\" class=\"dataframe\">\n",
       "  <thead>\n",
       "    <tr style=\"text-align: right;\">\n",
       "      <th></th>\n",
       "      <th>Date</th>\n",
       "      <th>Close</th>\n",
       "      <th>High</th>\n",
       "      <th>Low</th>\n",
       "      <th>Open</th>\n",
       "      <th>Volume</th>\n",
       "    </tr>\n",
       "  </thead>\n",
       "  <tbody>\n",
       "    <tr>\n",
       "      <th>5805</th>\n",
       "      <td>2025-06-18</td>\n",
       "      <td>1222.290039</td>\n",
       "      <td>1242.000000</td>\n",
       "      <td>1220.500000</td>\n",
       "      <td>1229.989990</td>\n",
       "      <td>2281000</td>\n",
       "    </tr>\n",
       "    <tr>\n",
       "      <th>5806</th>\n",
       "      <td>2025-06-20</td>\n",
       "      <td>1231.410034</td>\n",
       "      <td>1248.500000</td>\n",
       "      <td>1224.349976</td>\n",
       "      <td>1234.449951</td>\n",
       "      <td>5348200</td>\n",
       "    </tr>\n",
       "    <tr>\n",
       "      <th>5807</th>\n",
       "      <td>2025-06-23</td>\n",
       "      <td>1253.540039</td>\n",
       "      <td>1254.839966</td>\n",
       "      <td>1215.010010</td>\n",
       "      <td>1238.030029</td>\n",
       "      <td>2667300</td>\n",
       "    </tr>\n",
       "    <tr>\n",
       "      <th>5808</th>\n",
       "      <td>2025-06-24</td>\n",
       "      <td>1279.109985</td>\n",
       "      <td>1282.569946</td>\n",
       "      <td>1255.000000</td>\n",
       "      <td>1260.550049</td>\n",
       "      <td>2663300</td>\n",
       "    </tr>\n",
       "    <tr>\n",
       "      <th>5809</th>\n",
       "      <td>2025-06-25</td>\n",
       "      <td>1275.250000</td>\n",
       "      <td>1298.000000</td>\n",
       "      <td>1273.810059</td>\n",
       "      <td>1286.839966</td>\n",
       "      <td>2144100</td>\n",
       "    </tr>\n",
       "  </tbody>\n",
       "</table>\n",
       "</div>"
      ],
      "text/plain": [
       "            Date        Close         High          Low         Open   Volume\n",
       "5805  2025-06-18  1222.290039  1242.000000  1220.500000  1229.989990  2281000\n",
       "5806  2025-06-20  1231.410034  1248.500000  1224.349976  1234.449951  5348200\n",
       "5807  2025-06-23  1253.540039  1254.839966  1215.010010  1238.030029  2667300\n",
       "5808  2025-06-24  1279.109985  1282.569946  1255.000000  1260.550049  2663300\n",
       "5809  2025-06-25  1275.250000  1298.000000  1273.810059  1286.839966  2144100"
      ]
     },
     "execution_count": 51,
     "metadata": {},
     "output_type": "execute_result"
    }
   ],
   "source": [
    "file.tail()"
   ]
  },
  {
   "cell_type": "code",
   "execution_count": 52,
   "id": "2d370fba-778b-4fd6-bc36-30e26280629e",
   "metadata": {},
   "outputs": [
    {
     "data": {
      "text/plain": [
       "Date      0\n",
       "Close     0\n",
       "High      0\n",
       "Low       0\n",
       "Open      0\n",
       "Volume    0\n",
       "dtype: int64"
      ]
     },
     "execution_count": 52,
     "metadata": {},
     "output_type": "execute_result"
    }
   ],
   "source": [
    "file.isnull().sum()"
   ]
  },
  {
   "cell_type": "code",
   "execution_count": 53,
   "id": "d5b90acb-621b-410f-9140-72ee6160b92e",
   "metadata": {},
   "outputs": [
    {
     "data": {
      "text/plain": [
       "Date      5810\n",
       "Close     5326\n",
       "High      5234\n",
       "Low       5221\n",
       "Open      5233\n",
       "Volume    5640\n",
       "dtype: int64"
      ]
     },
     "execution_count": 53,
     "metadata": {},
     "output_type": "execute_result"
    }
   ],
   "source": [
    "file.nunique()"
   ]
  },
  {
   "cell_type": "code",
   "execution_count": 54,
   "id": "172cf5d9-f7b7-4550-a7de-2693cc0d92e9",
   "metadata": {},
   "outputs": [],
   "source": [
    "# Dropping irrelevant Columns"
   ]
  },
  {
   "cell_type": "code",
   "execution_count": 55,
   "id": "418f72ce-a700-4681-8bf3-f1aeeb8c635c",
   "metadata": {},
   "outputs": [],
   "source": [
    "data=file.drop([\"Date\"],axis=1)"
   ]
  },
  {
   "cell_type": "code",
   "execution_count": 56,
   "id": "110d4281-7c9f-4e62-b342-9777483b7a1b",
   "metadata": {},
   "outputs": [
    {
     "name": "stdout",
     "output_type": "stream",
     "text": [
      "[[1.24285698e+00 1.14571404e+00 1.15642905e+00 1.04790000e+08]\n",
      " [1.22500002e+00 1.19714296e+00 1.21428597e+00 1.11048000e+07]\n",
      " [1.23214304e+00 1.15714300e+00 1.21357095e+00 6.60940000e+06]\n",
      " ...\n",
      " [1.25483997e+03 1.21501001e+03 1.23803003e+03 2.66730000e+06]\n",
      " [1.28256995e+03 1.25500000e+03 1.26055005e+03 2.66330000e+06]\n",
      " [1.29800000e+03 1.27381006e+03 1.28683997e+03 2.14410000e+06]]\n",
      "\n",
      "[1.24285698e+00 1.22500002e+00 1.23214304e+00 ... 1.25483997e+03\n",
      " 1.28256995e+03 1.29800000e+03]\n"
     ]
    }
   ],
   "source": [
    "x=data.iloc[:,1:].values #independent variables\n",
    "y=data.iloc[:,1].values #dependent variables\n",
    "print(x)\n",
    "print()\n",
    "print(y)"
   ]
  },
  {
   "cell_type": "code",
   "execution_count": 57,
   "id": "365f004f-fb57-46a6-9f1f-719a48c20ade",
   "metadata": {},
   "outputs": [],
   "source": [
    "#Spliting the Datset into Training set and Test set"
   ]
  },
  {
   "cell_type": "code",
   "execution_count": 58,
   "id": "55462ac7-8413-4588-840f-03cc2c82db3c",
   "metadata": {},
   "outputs": [],
   "source": [
    "from sklearn.model_selection import train_test_split"
   ]
  },
  {
   "cell_type": "code",
   "execution_count": 59,
   "id": "4df6ab45-ec66-451c-8ccd-2f06e0a2ef16",
   "metadata": {},
   "outputs": [],
   "source": [
    "x_train,x_test,y_train,y_test=train_test_split(x,y,test_size=0.2,random_state=1)"
   ]
  },
  {
   "cell_type": "code",
   "execution_count": 60,
   "id": "7e24b32e-90a0-40c6-9266-c77d37c4175b",
   "metadata": {},
   "outputs": [
    {
     "name": "stdout",
     "output_type": "stream",
     "text": [
      "[[1.32700005e+01 1.25357141e+01 1.30671434e+01 8.44837000e+07]\n",
      " [1.01440002e+02 9.78199997e+01 9.83399963e+01 1.24322000e+07]\n",
      " [8.94999981e+00 8.32142925e+00 8.34142876e+00 7.60648000e+07]\n",
      " ...\n",
      " [3.23399994e+02 3.18140015e+02 3.23170013e+02 5.64290000e+06]\n",
      " [1.66285706e+00 1.55357099e+00 1.63499999e+00 1.10712000e+07]\n",
      " [3.12709991e+02 3.02549988e+02 3.09200012e+02 1.46269000e+07]]\n"
     ]
    }
   ],
   "source": [
    "print(x_train)"
   ]
  },
  {
   "cell_type": "code",
   "execution_count": 61,
   "id": "36ce6552-41ca-45ae-b309-1eceeff681e2",
   "metadata": {},
   "outputs": [
    {
     "name": "stdout",
     "output_type": "stream",
     "text": [
      "[[2.68899994e+01 2.58999996e+01 2.66885719e+01 3.82312000e+07]\n",
      " [1.73857105e+00 1.62571394e+00 1.62571394e+00 2.42851000e+07]\n",
      " [5.36428595e+00 5.00285721e+00 5.15714312e+00 5.70612000e+07]\n",
      " ...\n",
      " [8.35999966e+00 7.81571388e+00 8.18714333e+00 5.75470000e+06]\n",
      " [5.73428583e+00 5.58857107e+00 5.61571407e+00 1.20841000e+07]\n",
      " [5.21489990e+02 5.05549988e+02 5.17900024e+02 4.22900000e+06]]\n"
     ]
    }
   ],
   "source": [
    "print(x_test)"
   ]
  },
  {
   "cell_type": "code",
   "execution_count": 62,
   "id": "2ecd286c-f881-4661-a322-d132a6ad726b",
   "metadata": {},
   "outputs": [
    {
     "name": "stdout",
     "output_type": "stream",
     "text": [
      "[ 13.27000046 101.44000244   8.94999981 ... 323.3999939    1.66285706\n",
      " 312.70999146]\n"
     ]
    }
   ],
   "source": [
    "print(y_train)"
   ]
  },
  {
   "cell_type": "code",
   "execution_count": 63,
   "id": "fa6795d3-378f-4e7e-b11f-85ed01afc769",
   "metadata": {},
   "outputs": [
    {
     "name": "stdout",
     "output_type": "stream",
     "text": [
      "[ 26.88999939   1.73857105   5.36428595 ...   8.35999966   5.73428583\n",
      " 521.48999023]\n"
     ]
    }
   ],
   "source": [
    "print(y_test)"
   ]
  },
  {
   "cell_type": "code",
   "execution_count": 64,
   "id": "b67b9bc8-73c2-489a-a0ab-8d23ea0db856",
   "metadata": {},
   "outputs": [],
   "source": [
    "# Feature Scaling"
   ]
  },
  {
   "cell_type": "code",
   "execution_count": 65,
   "id": "95056eae-32c2-4191-92ea-60b8eff5be31",
   "metadata": {},
   "outputs": [],
   "source": [
    "from sklearn.preprocessing import StandardScaler"
   ]
  },
  {
   "cell_type": "code",
   "execution_count": 66,
   "id": "476ea28e-4165-4a4a-9679-60fcf04a63ec",
   "metadata": {},
   "outputs": [],
   "source": [
    "sc=StandardScaler()"
   ]
  },
  {
   "cell_type": "code",
   "execution_count": 67,
   "id": "c4b90e64-955b-4328-93e6-fd89d491bc2a",
   "metadata": {},
   "outputs": [],
   "source": [
    "x_train=sc.fit_transform(x_train)\n",
    "x_test=sc.fit_transform(x_test)"
   ]
  },
  {
   "cell_type": "code",
   "execution_count": 68,
   "id": "31a1b122-0335-4744-a9f3-33cb1a4dd426",
   "metadata": {},
   "outputs": [
    {
     "name": "stdout",
     "output_type": "stream",
     "text": [
      "[[-0.67738219 -0.6768369  -0.67656626  3.70868218]\n",
      " [-0.30762142 -0.30940599 -0.31402882 -0.14521901]\n",
      " [-0.69549909 -0.69499333 -0.69665763  3.25837082]\n",
      " ...\n",
      " [ 0.62321783  0.63980034  0.64183574 -0.50836609]\n",
      " [-0.72605936 -0.72415135 -0.72517    -0.21801638]\n",
      " [ 0.57838689  0.57263372  0.58244229 -0.02782858]]\n"
     ]
    }
   ],
   "source": [
    "print(x_train)"
   ]
  },
  {
   "cell_type": "code",
   "execution_count": 69,
   "id": "eb378c14-eb4a-48b4-bc15-bdcc9e944fe6",
   "metadata": {},
   "outputs": [
    {
     "name": "stdout",
     "output_type": "stream",
     "text": [
      "[[-0.62850068 -0.62820506 -0.62754821  1.36332269]\n",
      " [-0.7286557  -0.72749276 -0.72874502  0.54165229]\n",
      " [-0.71421781 -0.71367943 -0.7144861   2.47274063]\n",
      " ...\n",
      " [-0.70228864 -0.70217416 -0.7022518  -0.55011395]\n",
      " [-0.71274444 -0.71128371 -0.71263452 -0.17720105]\n",
      " [ 1.3410364   1.33367938  1.35582627 -0.64000449]]\n"
     ]
    }
   ],
   "source": [
    "print(x_test)"
   ]
  },
  {
   "cell_type": "code",
   "execution_count": null,
   "id": "34a77734-f161-41f9-a50e-35cfba941ec9",
   "metadata": {},
   "outputs": [],
   "source": []
  }
 ],
 "metadata": {
  "kernelspec": {
   "display_name": "Python 3 (ipykernel)",
   "language": "python",
   "name": "python3"
  },
  "language_info": {
   "codemirror_mode": {
    "name": "ipython",
    "version": 3
   },
   "file_extension": ".py",
   "mimetype": "text/x-python",
   "name": "python",
   "nbconvert_exporter": "python",
   "pygments_lexer": "ipython3",
   "version": "3.12.0"
  }
 },
 "nbformat": 4,
 "nbformat_minor": 5
}
